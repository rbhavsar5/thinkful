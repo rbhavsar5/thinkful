{
 "cells": [
  {
   "cell_type": "markdown",
   "metadata": {},
   "source": [
    "# DRILL:\n",
    "Let's say we work at a credit card company and we're trying to figure out if people are going to pay their bills on time. We have everyone's purchases, split into four main categories: groceries, dining out, utilities, and entertainment. What are some ways you might use KNN to create this model? What aspects of KNN would be useful? Write up your thoughts in submit a link below."
   ]
  },
  {
   "cell_type": "markdown",
   "metadata": {},
   "source": [
    "1. One choice is to create a decision boundary based on total amount of credit charges in each category. \n",
    "\n",
    "2. Another possibility  would be to use KNN to tally up dollar amount of each category separately as four different features. Then, you could use KNN to make a binary decision boundary between on time payments and late. Once established you can predict whether a payment would be on time or not based on past data. \n",
    "3. We could also make a feature that accounts for the fractional amount of charges per category when compared to total number of charges. Then we could also have a feature for amount by category. \n",
    "\n",
    "We can really find out if there are tangible decision boundaries or not. If there are.. KNN could be quite useful. "
   ]
  },
  {
   "cell_type": "code",
   "execution_count": null,
   "metadata": {},
   "outputs": [],
   "source": []
  }
 ],
 "metadata": {
  "kernelspec": {
   "display_name": "Python 3",
   "language": "python",
   "name": "python3"
  },
  "language_info": {
   "codemirror_mode": {
    "name": "ipython",
    "version": 3
   },
   "file_extension": ".py",
   "mimetype": "text/x-python",
   "name": "python",
   "nbconvert_exporter": "python",
   "pygments_lexer": "ipython3",
   "version": "3.6.6"
  }
 },
 "nbformat": 4,
 "nbformat_minor": 2
}
