{
 "cells": [
  {
   "cell_type": "markdown",
   "metadata": {},
   "source": [
    "# MONTY HALL PROBLEM\n",
    "One of the classic problems in this space is referred to as the Monty Hall Problem. Some people even use this as an interview question! It is deceptively simple, and really digging into it reveals a myriad of approaches and some serious applications of conditional probability. The story goes like this:\n",
    "\n",
    "You are on a game show and given the choice of whatever is behind three doors. Behind one door is a fantastic prize (some examples use a car, others use cash) while behind the other two doors is a dud (some examples say a goat, others say it's just empty). You pick a door. Then the host opens one of the other two doors to reveal a dud. But here's the wrinkle: the host now gives you the opportunity to switch your door. What should you do?\n",
    "\n",
    "Write up some notes on this problem, including how you think Bayes' Rule might apply. Drop a link to your notes below and discuss it with your mentor.\n",
    "\n",
    "After that check out the Wikipedia page for this problem. It's quite thorough."
   ]
  },
  {
   "cell_type": "markdown",
   "metadata": {},
   "source": [
    "# WHAT TO DO\n",
    "You should always switch. We can do a simple Baye's Rule analysis on the problem. Imagine 3 doors (A, B, C). Imagine that the contestant has picked A and that Monty will reveal B. C is the remaining door. There will always be a 0% the car is behind B. This is shown below:\n",
    "\n",
    "P(Car @ B | B is opened) = 0 \n",
    "\n",
    "The probability of the car being behind A does not change when the door is opened as you have selected the door before the door was opened. This means that the probability is 1/3 because there are 3 possible doors at the time of choosing. This is shown below:\n",
    "P(Car @ A | B is opened) = 1/3\n",
    "\n",
    "The remaining probability out of 1 is 2/3 and must be allocated to the final door, C. \n",
    "P(Car @ C | B is opened) = 2/3\n"
   ]
  }
 ],
 "metadata": {
  "kernelspec": {
   "display_name": "Python 3",
   "language": "python",
   "name": "python3"
  },
  "language_info": {
   "codemirror_mode": {
    "name": "ipython",
    "version": 3
   },
   "file_extension": ".py",
   "mimetype": "text/x-python",
   "name": "python",
   "nbconvert_exporter": "python",
   "pygments_lexer": "ipython3",
   "version": "3.6.6"
  }
 },
 "nbformat": 4,
 "nbformat_minor": 2
}
