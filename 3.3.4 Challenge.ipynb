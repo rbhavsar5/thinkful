{
 "cells": [
  {
   "cell_type": "code",
   "execution_count": 1,
   "metadata": {},
   "outputs": [],
   "source": [
    "# Importing the libraries\n",
    "import numpy as np\n",
    "import matplotlib.pyplot as plt\n",
    "import pandas as pd\n",
    "import seaborn as sns"
   ]
  },
  {
   "cell_type": "code",
   "execution_count": 2,
   "metadata": {},
   "outputs": [],
   "source": [
    "# Importing the dataset\n",
    "train = pd.read_csv('train.csv')\n",
    "test = pd.read_csv('test.csv')"
   ]
  },
  {
   "cell_type": "code",
   "execution_count": 3,
   "metadata": {},
   "outputs": [],
   "source": [
    "#Defining the feature and dependent variables\n",
    "X_test = test\n",
    "X_train = train.drop('Survived', axis = 1)\n",
    "y_train = train.iloc[:, 1].values"
   ]
  },
  {
   "cell_type": "code",
   "execution_count": 4,
   "metadata": {},
   "outputs": [],
   "source": [
    "#Setting Indexes\n",
    "X_test = X_test.set_index('PassengerId')\n",
    "X_train = X_train.set_index('PassengerId')"
   ]
  },
  {
   "cell_type": "code",
   "execution_count": 5,
   "metadata": {},
   "outputs": [
    {
     "data": {
      "text/html": [
       "<div>\n",
       "<style scoped>\n",
       "    .dataframe tbody tr th:only-of-type {\n",
       "        vertical-align: middle;\n",
       "    }\n",
       "\n",
       "    .dataframe tbody tr th {\n",
       "        vertical-align: top;\n",
       "    }\n",
       "\n",
       "    .dataframe thead th {\n",
       "        text-align: right;\n",
       "    }\n",
       "</style>\n",
       "<table border=\"1\" class=\"dataframe\">\n",
       "  <thead>\n",
       "    <tr style=\"text-align: right;\">\n",
       "      <th></th>\n",
       "      <th>Pclass</th>\n",
       "      <th>Name</th>\n",
       "      <th>Sex</th>\n",
       "      <th>Age</th>\n",
       "      <th>SibSp</th>\n",
       "      <th>Parch</th>\n",
       "      <th>Ticket</th>\n",
       "      <th>Fare</th>\n",
       "      <th>Cabin</th>\n",
       "      <th>Embarked</th>\n",
       "    </tr>\n",
       "    <tr>\n",
       "      <th>PassengerId</th>\n",
       "      <th></th>\n",
       "      <th></th>\n",
       "      <th></th>\n",
       "      <th></th>\n",
       "      <th></th>\n",
       "      <th></th>\n",
       "      <th></th>\n",
       "      <th></th>\n",
       "      <th></th>\n",
       "      <th></th>\n",
       "    </tr>\n",
       "  </thead>\n",
       "  <tbody>\n",
       "    <tr>\n",
       "      <th>1</th>\n",
       "      <td>3</td>\n",
       "      <td>Braund, Mr. Owen Harris</td>\n",
       "      <td>male</td>\n",
       "      <td>22.0</td>\n",
       "      <td>1</td>\n",
       "      <td>0</td>\n",
       "      <td>A/5 21171</td>\n",
       "      <td>7.2500</td>\n",
       "      <td>NaN</td>\n",
       "      <td>S</td>\n",
       "    </tr>\n",
       "    <tr>\n",
       "      <th>2</th>\n",
       "      <td>1</td>\n",
       "      <td>Cumings, Mrs. John Bradley (Florence Briggs Th...</td>\n",
       "      <td>female</td>\n",
       "      <td>38.0</td>\n",
       "      <td>1</td>\n",
       "      <td>0</td>\n",
       "      <td>PC 17599</td>\n",
       "      <td>71.2833</td>\n",
       "      <td>C85</td>\n",
       "      <td>C</td>\n",
       "    </tr>\n",
       "    <tr>\n",
       "      <th>3</th>\n",
       "      <td>3</td>\n",
       "      <td>Heikkinen, Miss. Laina</td>\n",
       "      <td>female</td>\n",
       "      <td>26.0</td>\n",
       "      <td>0</td>\n",
       "      <td>0</td>\n",
       "      <td>STON/O2. 3101282</td>\n",
       "      <td>7.9250</td>\n",
       "      <td>NaN</td>\n",
       "      <td>S</td>\n",
       "    </tr>\n",
       "    <tr>\n",
       "      <th>4</th>\n",
       "      <td>1</td>\n",
       "      <td>Futrelle, Mrs. Jacques Heath (Lily May Peel)</td>\n",
       "      <td>female</td>\n",
       "      <td>35.0</td>\n",
       "      <td>1</td>\n",
       "      <td>0</td>\n",
       "      <td>113803</td>\n",
       "      <td>53.1000</td>\n",
       "      <td>C123</td>\n",
       "      <td>S</td>\n",
       "    </tr>\n",
       "    <tr>\n",
       "      <th>5</th>\n",
       "      <td>3</td>\n",
       "      <td>Allen, Mr. William Henry</td>\n",
       "      <td>male</td>\n",
       "      <td>35.0</td>\n",
       "      <td>0</td>\n",
       "      <td>0</td>\n",
       "      <td>373450</td>\n",
       "      <td>8.0500</td>\n",
       "      <td>NaN</td>\n",
       "      <td>S</td>\n",
       "    </tr>\n",
       "  </tbody>\n",
       "</table>\n",
       "</div>"
      ],
      "text/plain": [
       "             Pclass                                               Name  \\\n",
       "PassengerId                                                              \n",
       "1                 3                            Braund, Mr. Owen Harris   \n",
       "2                 1  Cumings, Mrs. John Bradley (Florence Briggs Th...   \n",
       "3                 3                             Heikkinen, Miss. Laina   \n",
       "4                 1       Futrelle, Mrs. Jacques Heath (Lily May Peel)   \n",
       "5                 3                           Allen, Mr. William Henry   \n",
       "\n",
       "                Sex   Age  SibSp  Parch            Ticket     Fare Cabin  \\\n",
       "PassengerId                                                                \n",
       "1              male  22.0      1      0         A/5 21171   7.2500   NaN   \n",
       "2            female  38.0      1      0          PC 17599  71.2833   C85   \n",
       "3            female  26.0      0      0  STON/O2. 3101282   7.9250   NaN   \n",
       "4            female  35.0      1      0            113803  53.1000  C123   \n",
       "5              male  35.0      0      0            373450   8.0500   NaN   \n",
       "\n",
       "            Embarked  \n",
       "PassengerId           \n",
       "1                  S  \n",
       "2                  C  \n",
       "3                  S  \n",
       "4                  S  \n",
       "5                  S  "
      ]
     },
     "execution_count": 5,
     "metadata": {},
     "output_type": "execute_result"
    }
   ],
   "source": [
    "X_train.head()"
   ]
  },
  {
   "cell_type": "code",
   "execution_count": 6,
   "metadata": {},
   "outputs": [],
   "source": [
    "#Splitting Name Column (Training Set, then Test Set)\n",
    "foo = lambda x: pd.Series([i for i in reversed(x.split(','))])\n",
    "split_names_train = X_train['Name'].apply(foo)\n",
    "split_names_train.rename(columns={0:'Rest',1:'Surname'},inplace=True)\n",
    "split_names_train = split_names_train[['Surname','Rest']]\n",
    "\n",
    "foo1 = lambda x: pd.Series([i for i in reversed(x.split(','))])\n",
    "split_names_test = X_test['Name'].apply(foo1)\n",
    "split_names_test.rename(columns={0:'Rest',1:'Surname'},inplace=True)\n",
    "split_names_test = split_names_test[['Surname','Rest']]\n",
    "\n",
    "#Second Split in Name Column (Training Set, then Test Set)\n",
    "foo = lambda x: pd.Series([i for i in reversed(x.split('.'))])\n",
    "split_names2_train = split_names_train['Rest'].apply(foo)\n",
    "split_names2_train.rename(columns={0:'Rest',1:'Title'},inplace=True)\n",
    "split_names2_train = split_names2_train[['Title','Rest']]\n",
    "\n",
    "\n",
    "foo1 = lambda x: pd.Series([i for i in reversed(x.split('.'))])\n",
    "split_names2_test = split_names_test['Rest'].apply(foo1)\n",
    "split_names2_test.rename(columns={0:'Rest',1:'Title'},inplace=True)\n",
    "split_names2_test = split_names2_test[['Title','Rest']]\n"
   ]
  },
  {
   "cell_type": "code",
   "execution_count": 7,
   "metadata": {},
   "outputs": [],
   "source": [
    "#Combining the 2 Dataframes into 1 with 3 columns \n",
    "Names_train = split_names_train\n",
    "Names_train['Title'] = split_names2_train['Title']\n",
    "Names_train['Rest'] = split_names2_train['Rest']\n",
    "\n",
    "Names_test = split_names_test\n",
    "Names_test['Title'] = split_names2_test['Title']\n",
    "Names_test['Rest'] = split_names2_test['Rest']"
   ]
  },
  {
   "cell_type": "code",
   "execution_count": 8,
   "metadata": {},
   "outputs": [],
   "source": [
    "#Add Name Columns to X_train, X_test\n",
    "X_train[['Surname', 'Rest', 'Title']] = Names_train[['Surname', 'Rest', 'Title']]\n",
    "X_test[['Surname', 'Rest', 'Title']] = Names_test[['Surname', 'Rest', 'Title']]"
   ]
  },
  {
   "cell_type": "code",
   "execution_count": 9,
   "metadata": {},
   "outputs": [],
   "source": [
    "#taking care of missing data\n",
    "#Fill Embarked using forward fill \n",
    "X_train['Embarked'] = X_train['Embarked'].fillna(method = 'ffill')\n",
    "X_test['Embarked'] = X_test['Embarked'].fillna(method = 'ffill')"
   ]
  },
  {
   "cell_type": "code",
   "execution_count": 10,
   "metadata": {},
   "outputs": [],
   "source": [
    "#Label Encoder for Categorical Data (Sex, Embarked)\n",
    "from sklearn.preprocessing import LabelEncoder, OneHotEncoder\n",
    "labelencoder_Sex = LabelEncoder()\n",
    "labelencoder_Embarked = LabelEncoder()  \n",
    "\n",
    "X_train['Sex'] = labelencoder_Sex.fit_transform(X_train['Sex'])\n",
    "X_test['Sex'] = labelencoder_Sex.fit_transform(X_test['Sex'])\n",
    "X_train['Embarked'] = labelencoder_Embarked.fit_transform(X_train['Embarked'])\n",
    "X_test['Embarked'] = labelencoder_Embarked.fit_transform(X_test['Embarked'])\n"
   ]
  },
  {
   "cell_type": "code",
   "execution_count": 11,
   "metadata": {},
   "outputs": [
    {
     "data": {
      "text/plain": [
       "<function matplotlib.pyplot.show(*args, **kw)>"
      ]
     },
     "execution_count": 11,
     "metadata": {},
     "output_type": "execute_result"
    },
    {
     "data": {
      "image/png": "[encoded data removed]",
      "text/plain": [
       "<Figure size 432x288 with 1 Axes>"
      ]
     },
     "metadata": {},
     "output_type": "display_data"
    }
   ],
   "source": [
    "#Plot Title vs Age\n",
    "plt.scatter(X_test['Title'], X_test['Age'], c = 'r') \n",
    "plt.show"
   ]
  },
  {
   "cell_type": "code",
   "execution_count": 12,
   "metadata": {},
   "outputs": [
    {
     "data": {
      "text/plain": [
       "<matplotlib.axes._subplots.AxesSubplot at 0x1097efba8>"
      ]
     },
     "execution_count": 12,
     "metadata": {},
     "output_type": "execute_result"
    },
    {
     "data": {
      "image/png": "[encoded data removed]",
      "text/plain": [
       "<Figure size 432x288 with 1 Axes>"
      ]
     },
     "metadata": {},
     "output_type": "display_data"
    }
   ],
   "source": [
    "sns.countplot(x=\"Survived\", hue=\"Age\", data=train)"
   ]
  },
  {
   "cell_type": "code",
   "execution_count": 13,
   "metadata": {},
   "outputs": [
    {
     "data": {
      "text/plain": [
       "Pclass        0\n",
       "Name          0\n",
       "Sex           0\n",
       "Age         177\n",
       "SibSp         0\n",
       "Parch         0\n",
       "Ticket        0\n",
       "Fare          0\n",
       "Cabin       687\n",
       "Embarked      0\n",
       "Surname       0\n",
       "Rest          0\n",
       "Title         0\n",
       "dtype: int64"
      ]
     },
     "execution_count": 13,
     "metadata": {},
     "output_type": "execute_result"
    }
   ],
   "source": [
    "X_train.isnull().sum()"
   ]
  },
  {
   "cell_type": "code",
   "execution_count": 14,
   "metadata": {},
   "outputs": [
    {
     "data": {
      "text/plain": [
       "Pclass        0\n",
       "Name          0\n",
       "Sex           0\n",
       "Age          86\n",
       "SibSp         0\n",
       "Parch         0\n",
       "Ticket        0\n",
       "Fare          1\n",
       "Cabin       327\n",
       "Embarked      0\n",
       "Surname       0\n",
       "Rest          0\n",
       "Title         0\n",
       "dtype: int64"
      ]
     },
     "execution_count": 14,
     "metadata": {},
     "output_type": "execute_result"
    }
   ],
   "source": [
    "X_test.isnull().sum()"
   ]
  },
  {
   "cell_type": "code",
   "execution_count": 15,
   "metadata": {},
   "outputs": [],
   "source": [
    "X_train.drop('Cabin', axis = 1, inplace = True)\n",
    "X_test.drop('Cabin', axis = 1, inplace = True)"
   ]
  },
  {
   "cell_type": "code",
   "execution_count": 16,
   "metadata": {},
   "outputs": [],
   "source": [
    "#Add Name Columns to X_train, X_test\n",
    "X_train[['Surname', 'Rest', 'Title']] = Names_train[['Surname', 'Rest', 'Title']]\n",
    "X_test[['Surname', 'Rest', 'Title']] = Names_test[['Surname', 'Rest', 'Title']]"
   ]
  },
  {
   "cell_type": "code",
   "execution_count": 17,
   "metadata": {},
   "outputs": [],
   "source": [
    "train['Surname'] = X_train['Surname']"
   ]
  },
  {
   "cell_type": "code",
   "execution_count": 18,
   "metadata": {
    "scrolled": true
   },
   "outputs": [],
   "source": [
    "#Create a series of surnames with multiple family members in training set\n",
    "train['Surname'] = X_train['Surname']\n",
    "grouped=X_train.groupby(['Surname']).count()\n",
    "grouped['Family Size'] = grouped['Pclass']\n",
    "group = pd.DataFrame()\n",
    "group['Family Size'] = grouped['Family Size']\n",
    "dupids = grouped['Family Size'].where(grouped['Family Size'] > 1)\n",
    "dupids.dropna(inplace = True)\n",
    "\n",
    "grouped1 = X_test.groupby(['Surname']).count()\n",
    "grouped1['Family Size'] = grouped1['Pclass']\n",
    "group1 = pd.DataFrame()\n",
    "group1['Family Size'] = grouped1['Family Size']\n",
    "dupids1 = grouped['Family Size'].where(grouped1['Family Size'] > 1)\n",
    "dupids1.dropna(inplace = True)"
   ]
  },
  {
   "cell_type": "code",
   "execution_count": 19,
   "metadata": {},
   "outputs": [],
   "source": [
    "#assign 1 or 0 or -1 \n",
    "frame = pd.DataFrame()\n",
    "\n",
    "a = {} #train\n",
    "for surname in dupids.index:\n",
    "    s = train.loc[train['Surname'] == surname, 'Survived']\n",
    "    means = np.mean(s)\n",
    "    #print(means)\n",
    "    #print(s.index)\n",
    "    #print(surname)\n",
    "    key = surname\n",
    "    \n",
    "    if np.mean(s) > 0:\n",
    "        a[surname] = 1\n",
    "        ##also can try\n",
    "        #a[surname] = np.mean(s)\n",
    "    else:\n",
    "        a[surname] = 0\n",
    "\n",
    "b = {} #test\n",
    "for surname in dupids1.index:\n",
    "    s1 = train.loc[train['Surname'] == surname, 'Survived']\n",
    "    means = np.mean(s)\n",
    "    key = surname\n",
    "    if np.mean(s1) > 0:\n",
    "        b[surname] = 1\n",
    "        ##also can try\n",
    "        #a[surname] = np.mean(s)\n",
    "    else:\n",
    "        b[surname] = 0\n"
   ]
  },
  {
   "cell_type": "code",
   "execution_count": 20,
   "metadata": {},
   "outputs": [
    {
     "name": "stdout",
     "output_type": "stream",
     "text": [
      "112    0\n",
      "241    1\n",
      "Name: Survived, dtype: int64\n",
      "154    0\n",
      "Name: Survived, dtype: int64\n"
     ]
    }
   ],
   "source": [
    "#check if any survivors for each surname in dictionary(a)\n",
    "print(s)\n",
    "print(s1)\n",
    "#for surname in train['']"
   ]
  },
  {
   "cell_type": "code",
   "execution_count": 21,
   "metadata": {},
   "outputs": [],
   "source": [
    "#Use Surname to check whether a person has a family member who survives\n",
    "X_train['fam_surv'] = 2\n",
    "\n",
    "for idx, surname in X_train['Surname'].iteritems():\n",
    "    try:\n",
    "        if a[surname] == 1:\n",
    "            X_train.loc[idx, 'fam_surv'] = 1  \n",
    "        else:\n",
    "            X_train.loc[idx, 'fam_surv'] = -1  \n",
    "    except KeyError:\n",
    "        X_train.loc[idx, 'fam_surv'] = 0  \n",
    "        pass   "
   ]
  },
  {
   "cell_type": "code",
   "execution_count": 22,
   "metadata": {},
   "outputs": [],
   "source": [
    "#do same for test set\n",
    "X_test['fam_surv'] = 2\n",
    "\n",
    "for idx, surname in X_test['Surname'].iteritems():\n",
    "    try:\n",
    "        if a[surname] == 1:\n",
    "            X_test.loc[idx, 'fam_surv'] = 1  \n",
    "        else:\n",
    "            X_test.loc[idx, 'fam_surv'] = -1  \n",
    "    except KeyError:\n",
    "        X_test.loc[idx, 'fam_surv'] = 0  \n",
    "        pass   "
   ]
  },
  {
   "cell_type": "code",
   "execution_count": 23,
   "metadata": {},
   "outputs": [],
   "source": [
    "X_train.drop(['Rest', 'Ticket', 'Surname', 'Name'], axis =1, inplace = True)\n",
    "X_test.drop(['Rest', 'Ticket', 'Surname', 'Name'], axis =1, inplace = True)"
   ]
  },
  {
   "cell_type": "code",
   "execution_count": 24,
   "metadata": {
    "scrolled": true
   },
   "outputs": [
    {
     "data": {
      "text/html": [
       "<div>\n",
       "<style scoped>\n",
       "    .dataframe tbody tr th:only-of-type {\n",
       "        vertical-align: middle;\n",
       "    }\n",
       "\n",
       "    .dataframe tbody tr th {\n",
       "        vertical-align: top;\n",
       "    }\n",
       "\n",
       "    .dataframe thead th {\n",
       "        text-align: right;\n",
       "    }\n",
       "</style>\n",
       "<table border=\"1\" class=\"dataframe\">\n",
       "  <thead>\n",
       "    <tr style=\"text-align: right;\">\n",
       "      <th></th>\n",
       "      <th>Pclass</th>\n",
       "      <th>Sex</th>\n",
       "      <th>Age</th>\n",
       "      <th>SibSp</th>\n",
       "      <th>Parch</th>\n",
       "      <th>Fare</th>\n",
       "      <th>Embarked</th>\n",
       "      <th>Title</th>\n",
       "      <th>fam_surv</th>\n",
       "    </tr>\n",
       "    <tr>\n",
       "      <th>PassengerId</th>\n",
       "      <th></th>\n",
       "      <th></th>\n",
       "      <th></th>\n",
       "      <th></th>\n",
       "      <th></th>\n",
       "      <th></th>\n",
       "      <th></th>\n",
       "      <th></th>\n",
       "      <th></th>\n",
       "    </tr>\n",
       "  </thead>\n",
       "  <tbody>\n",
       "    <tr>\n",
       "      <th>1</th>\n",
       "      <td>3</td>\n",
       "      <td>1</td>\n",
       "      <td>22.0</td>\n",
       "      <td>1</td>\n",
       "      <td>0</td>\n",
       "      <td>7.2500</td>\n",
       "      <td>2</td>\n",
       "      <td>Mr</td>\n",
       "      <td>1</td>\n",
       "    </tr>\n",
       "    <tr>\n",
       "      <th>2</th>\n",
       "      <td>1</td>\n",
       "      <td>0</td>\n",
       "      <td>38.0</td>\n",
       "      <td>1</td>\n",
       "      <td>0</td>\n",
       "      <td>71.2833</td>\n",
       "      <td>0</td>\n",
       "      <td>Mrs</td>\n",
       "      <td>0</td>\n",
       "    </tr>\n",
       "    <tr>\n",
       "      <th>3</th>\n",
       "      <td>3</td>\n",
       "      <td>0</td>\n",
       "      <td>26.0</td>\n",
       "      <td>0</td>\n",
       "      <td>0</td>\n",
       "      <td>7.9250</td>\n",
       "      <td>2</td>\n",
       "      <td>Miss</td>\n",
       "      <td>0</td>\n",
       "    </tr>\n",
       "    <tr>\n",
       "      <th>4</th>\n",
       "      <td>1</td>\n",
       "      <td>0</td>\n",
       "      <td>35.0</td>\n",
       "      <td>1</td>\n",
       "      <td>0</td>\n",
       "      <td>53.1000</td>\n",
       "      <td>2</td>\n",
       "      <td>Mrs</td>\n",
       "      <td>-1</td>\n",
       "    </tr>\n",
       "    <tr>\n",
       "      <th>5</th>\n",
       "      <td>3</td>\n",
       "      <td>1</td>\n",
       "      <td>35.0</td>\n",
       "      <td>0</td>\n",
       "      <td>0</td>\n",
       "      <td>8.0500</td>\n",
       "      <td>2</td>\n",
       "      <td>Mr</td>\n",
       "      <td>-1</td>\n",
       "    </tr>\n",
       "  </tbody>\n",
       "</table>\n",
       "</div>"
      ],
      "text/plain": [
       "             Pclass  Sex   Age  SibSp  Parch     Fare  Embarked  Title  \\\n",
       "PassengerId                                                              \n",
       "1                 3    1  22.0      1      0   7.2500         2     Mr   \n",
       "2                 1    0  38.0      1      0  71.2833         0    Mrs   \n",
       "3                 3    0  26.0      0      0   7.9250         2   Miss   \n",
       "4                 1    0  35.0      1      0  53.1000         2    Mrs   \n",
       "5                 3    1  35.0      0      0   8.0500         2     Mr   \n",
       "\n",
       "             fam_surv  \n",
       "PassengerId            \n",
       "1                   1  \n",
       "2                   0  \n",
       "3                   0  \n",
       "4                  -1  \n",
       "5                  -1  "
      ]
     },
     "execution_count": 24,
     "metadata": {},
     "output_type": "execute_result"
    }
   ],
   "source": [
    "X_train.head(5)"
   ]
  },
  {
   "cell_type": "code",
   "execution_count": 25,
   "metadata": {
    "scrolled": false
   },
   "outputs": [],
   "source": [
    "group1 = X_train.groupby(['Title']).median()\n",
    "group2 = X_test.groupby(['Title']).median()"
   ]
  },
  {
   "cell_type": "code",
   "execution_count": 26,
   "metadata": {},
   "outputs": [],
   "source": [
    "titles = group1.index\n",
    "for title in titles:\n",
    "    age_to_impute = X_train.groupby('Title')['Age'].median()[title]\n",
    "    X_train.loc[(X_train['Age'].isnull()) & (X_train['Title'] == title), 'Age'] = age_to_impute\n",
    "    X_test.loc[(X_test['Age'].isnull()) & (X_test['Title'] == title), 'Age'] = age_to_impute"
   ]
  },
  {
   "cell_type": "code",
   "execution_count": 27,
   "metadata": {},
   "outputs": [],
   "source": [
    "X_train.drop('Title', axis = 1, inplace = True)\n",
    "X_test.drop('Title', axis =1, inplace = True)"
   ]
  },
  {
   "cell_type": "code",
   "execution_count": 28,
   "metadata": {},
   "outputs": [],
   "source": [
    "X_train = pd.get_dummies(X_train, drop_first = True, columns = ['fam_surv', 'Embarked'])\n",
    "X_test = pd.get_dummies(X_test, drop_first = True, columns = ['fam_surv', 'Embarked'])"
   ]
  },
  {
   "cell_type": "code",
   "execution_count": 29,
   "metadata": {},
   "outputs": [],
   "source": [
    "X_test = X_test.fillna(method = 'ffill')"
   ]
  },
  {
   "cell_type": "code",
   "execution_count": 30,
   "metadata": {},
   "outputs": [],
   "source": [
    "#feature scaling (X)\n",
    "from sklearn.preprocessing import StandardScaler\n",
    "Sc_X = StandardScaler()\n",
    "X_train = Sc_X.fit_transform(X_train)\n",
    "X_test = Sc_X.transform(X_test)"
   ]
  },
  {
   "cell_type": "code",
   "execution_count": 31,
   "metadata": {},
   "outputs": [
    {
     "data": {
      "text/plain": [
       "LogisticRegression(C=100000.0, class_weight=None, dual=False,\n",
       "          fit_intercept=True, intercept_scaling=1, max_iter=100,\n",
       "          multi_class='ovr', n_jobs=1, penalty='l2', random_state=None,\n",
       "          solver='liblinear', tol=0.0001, verbose=0, warm_start=False)"
      ]
     },
     "execution_count": 31,
     "metadata": {},
     "output_type": "execute_result"
    }
   ],
   "source": [
    "#Vanilla Logit Model\n",
    "from sklearn import linear_model\n",
    "logreg = linear_model.LogisticRegression(C=1e5)\n",
    "logreg.fit(X_train, y_train)"
   ]
  },
  {
   "cell_type": "code",
   "execution_count": 32,
   "metadata": {},
   "outputs": [
    {
     "data": {
      "text/plain": [
       "array([0.78888889, 0.77777778, 0.7752809 , 0.80898876, 0.78651685,\n",
       "       0.7752809 , 0.79775281, 0.79775281, 0.82022472, 0.82954545])"
      ]
     },
     "metadata": {},
     "output_type": "display_data"
    }
   ],
   "source": [
    "from sklearn.model_selection import cross_val_score\n",
    "display(cross_val_score(logreg, X_train, y_train, cv=10))"
   ]
  },
  {
   "cell_type": "code",
   "execution_count": 33,
   "metadata": {},
   "outputs": [],
   "source": [
    "#Predicting the Test set results\n",
    "y_pred = logreg.predict(X_test)"
   ]
  },
  {
   "cell_type": "code",
   "execution_count": 34,
   "metadata": {},
   "outputs": [
    {
     "data": {
      "text/plain": [
       "array([0.78888889, 0.77777778, 0.7752809 , 0.80898876, 0.78651685,\n",
       "       0.7752809 , 0.79775281, 0.79775281, 0.82022472, 0.82954545])"
      ]
     },
     "metadata": {},
     "output_type": "display_data"
    }
   ],
   "source": [
    "from sklearn.linear_model import LogisticRegression\n",
    "#Lasso Regression Model\n",
    "from sklearn import linear_model\n",
    "lasso = LogisticRegression(C=1e5, penalty='l1')\n",
    "lasso.fit(X_train, y_train)\n",
    "display(cross_val_score(lasso, X_train, y_train, cv=10))"
   ]
  },
  {
   "cell_type": "code",
   "execution_count": 35,
   "metadata": {},
   "outputs": [],
   "source": [
    "#Predicting the Test set results\n",
    "y_pred1 = lasso.predict(X_test) "
   ]
  },
  {
   "cell_type": "code",
   "execution_count": 36,
   "metadata": {},
   "outputs": [
    {
     "data": {
      "text/plain": [
       "array([0.78888889, 0.77777778, 0.78651685, 0.86516854, 0.76404494,\n",
       "       0.7752809 , 0.7752809 , 0.76404494, 0.83146067, 0.79545455])"
      ]
     },
     "metadata": {},
     "output_type": "display_data"
    }
   ],
   "source": [
    "#Ridge Regression Model\n",
    "ridge = linear_model.RidgeClassifier(alpha=0.5, fit_intercept=True)\n",
    "ridge.fit(X_train, y_train)\n",
    "display(cross_val_score(ridge, X_train, y_train, cv=10))"
   ]
  },
  {
   "cell_type": "code",
   "execution_count": 37,
   "metadata": {},
   "outputs": [],
   "source": [
    "y_pred2 = ridge.predict(X_test) "
   ]
  },
  {
   "cell_type": "code",
   "execution_count": 38,
   "metadata": {},
   "outputs": [],
   "source": [
    "#Writing to CSV \n",
    "#To check against solutions \n",
    "Subs = pd.read_csv('gender_submission.csv')\n",
    "Subs = Subs.set_index('PassengerId')\n",
    "Subs['Survived'] = y_pred\n",
    "Subs.to_csv('Subs.csv')"
   ]
  },
  {
   "cell_type": "markdown",
   "metadata": {},
   "source": [
    "# Evaluation of Models\n",
    "\n",
    "Overall, it appears that Ridge Regression gives the best result. However, it has a higher amount of variance between the accuracies. And so, optimizing according to L2 is the best option for the data on this set. \n",
    "\n",
    "Also of note, I submitted my solutions to kaggle. The following are the results: \n",
    "\n",
    "Lasso = 0.7751\n",
    "Ridge = 0.7608\n",
    "Vanilla = 0.7751\n",
    "\n",
    "It appears that the vanilla and Lasso model perform exactly the same with the same predictions. \n"
   ]
  }
 ],
 "metadata": {
  "kernelspec": {
   "display_name": "Python 3",
   "language": "python",
   "name": "python3"
  },
  "language_info": {
   "codemirror_mode": {
    "name": "ipython",
    "version": 3
   },
   "file_extension": ".py",
   "mimetype": "text/x-python",
   "name": "python",
   "nbconvert_exporter": "python",
   "pygments_lexer": "ipython3",
   "version": "3.6.6"
  }
 },
 "nbformat": 4,
 "nbformat_minor": 2
}
