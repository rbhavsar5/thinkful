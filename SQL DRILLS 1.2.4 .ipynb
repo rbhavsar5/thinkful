{
 "cells": [
  {
   "cell_type": "markdown",
   "metadata": {},
   "source": [
    "# Drill 1"
   ]
  },
  {
   "cell_type": "markdown",
   "metadata": {},
   "source": [
    "WITH\n",
    "    rainy\n",
    "AS (\n",
    "    -- A simple query to get the averages of lat and long on a city level.\n",
    "    SELECT\n",
    "        Date\n",
    "\tFROM\n",
    "        weather\n",
    "\tWHERE \n",
    "\t\tEvents LIKE 'Rain%' OR Events LIKE '%Rain'\n",
    "    GROUP BY 1\n",
    ")\n",
    "SELECT\n",
    "trip_id,\n",
    "duration,\n",
    "DATE(start_date) trip_date\n",
    "FROM trips\n",
    "JOIN rainy\n",
    "on rainy.date = trip_date\n",
    "ORDER BY duration DESC\n",
    "LIMIT 3"
   ]
  },
  {
   "cell_type": "markdown",
   "metadata": {},
   "source": [
    "# Drill 2"
   ]
  },
  {
   "cell_type": "code",
   "execution_count": null,
   "metadata": {},
   "outputs": [],
   "source": [
    "SELECT\n",
    "status.station_id,\n",
    "stations.name,\n",
    "COUNT(CASE WHEN docks_available=0 then 1 END) empty_count\n",
    "FROM status\n",
    "JOIN stations\n",
    "on stations.station_id = status.station_id\n",
    "GROUP BY 1\n",
    "ORDER BY empty_count DESC"
   ]
  },
  {
   "cell_type": "markdown",
   "metadata": {},
   "source": [
    "# Drill 3"
   ]
  },
  {
   "cell_type": "code",
   "execution_count": null,
   "metadata": {},
   "outputs": [],
   "source": [
    "SELECT\n",
    "\tstart_station,\n",
    "\tdockcount,\n",
    "\tCOUNT(*)\n",
    "FROM trips\n",
    "JOIN stations\n",
    "ON stations.name=trips.start_station\n",
    "GROUP BY 1, 2\n",
    "order by 2 DESC"
   ]
  },
  {
   "cell_type": "markdown",
   "metadata": {},
   "source": [
    "# Drill 4"
   ]
  },
  {
   "cell_type": "code",
   "execution_count": null,
   "metadata": {},
   "outputs": [],
   "source": [
    "with rainy as \n",
    "(SELECT \n",
    "date\n",
    "From weather\n",
    "WHERE events = 'Rain'\n",
    "GROUP BY 1\n",
    "),\n",
    "\n",
    "rain_trips as (\n",
    "SELECT\n",
    "trip_id,\n",
    "duration,\n",
    "DATE(start_date) trip_date\n",
    "FROM trips\n",
    "JOIN rainy\n",
    "on rainy.date = trip_date\n",
    "ORDER BY duration DESC\n",
    ")\n",
    "\n",
    "SELECT \n",
    "trip_date,\n",
    "max(duration)\n",
    "from rain_trips\n",
    "GROUP BY 1"
   ]
  }
 ],
 "metadata": {
  "kernelspec": {
   "display_name": "Python 3",
   "language": "python",
   "name": "python3"
  },
  "language_info": {
   "codemirror_mode": {
    "name": "ipython",
    "version": 3
   },
   "file_extension": ".py",
   "mimetype": "text/x-python",
   "name": "python",
   "nbconvert_exporter": "python",
   "pygments_lexer": "ipython3",
   "version": "3.6.6"
  }
 },
 "nbformat": 4,
 "nbformat_minor": 2
}
