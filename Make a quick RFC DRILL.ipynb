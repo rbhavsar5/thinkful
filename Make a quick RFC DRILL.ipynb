{
 "cells": [
  {
   "cell_type": "markdown",
   "metadata": {},
   "source": [
    "# Make a quick RFC DRILL"
   ]
  },
  {
   "cell_type": "markdown",
   "metadata": {},
   "source": [
    "To prevent cheating, a teacher writes three versions of a test. She stacks the three versions together, first all copies of Version A, then all copies of Version B, then all copies of Version C. As students arrive for the exam, each student takes a test. When grading the test, the teacher finds that students who took Version B scored higher than students who took either Version A or Version C. She concludes from this that Version B is easier, and discards it."
   ]
  },
  {
   "cell_type": "markdown",
   "metadata": {},
   "source": [
    "# The Problem\n",
    "\n",
    "I suspect that my students are cheating on tests. It appears that they copy answers off each other's papers. While grading tests, I have noticed that there are clusters of scores by where students sit.  several students  \n",
    "\n",
    "some groups of students perform much differently than other groups, and in some cases it seems to be related to where the students are seated when they take the test.\n"
   ]
  },
  {
   "cell_type": "markdown",
   "metadata": {},
   "source": [
    "# The Solution \n",
    "\n",
    "I will create several versions of the test.\n"
   ]
  },
  {
   "cell_type": "markdown",
   "metadata": {},
   "source": [
    "# Testing the Solution \n",
    "\n",
    "I will create three  versions of the exam. I use the same test questions on the three versions, in random order. The test versions will be marked A, B, and C. This is so that I can separate them when grading. The students will receive test forms by random. \n",
    "\n",
    "After the tests have been graded, I can compare the distribution of scores to previous test scores in order to find any significant difference. "
   ]
  }
 ],
 "metadata": {
  "kernelspec": {
   "display_name": "Python 3",
   "language": "python",
   "name": "python3"
  },
  "language_info": {
   "codemirror_mode": {
    "name": "ipython",
    "version": 3
   },
   "file_extension": ".py",
   "mimetype": "text/x-python",
   "name": "python",
   "nbconvert_exporter": "python",
   "pygments_lexer": "ipython3",
   "version": "3.6.6"
  }
 },
 "nbformat": 4,
 "nbformat_minor": 2
}
