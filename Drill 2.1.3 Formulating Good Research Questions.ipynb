{
 "cells": [
  {
   "cell_type": "markdown",
   "metadata": {},
   "source": [
    "# Drill: Formulating good research questions"
   ]
  },
  {
   "cell_type": "markdown",
   "metadata": {},
   "source": [
    "#### Categorize each of the following research questions as \"good\" or \"bad\", and provide alternative formulations for the bad ones. Save your responses in a document of some kind, submit a link below, and discuss your reasoning with your mentor."
   ]
  },
  {
   "cell_type": "markdown",
   "metadata": {},
   "source": [
    "1. What is the 1994 rate of juvenile delinquency in the U.S.?\n",
    "\n",
    "Good.\n",
    "\n",
    "2. What can we do to reduce juvenile delinquency in the U.S.?\n",
    "\n",
    "Bad. Open-ended.\n",
    "\n",
    "3. Does education play a role in reducing juvenile delinquents' return to crime?\n",
    "\n",
    "Bad. Open-ended.\n",
    "\n",
    "4. How many customers does AT&T currently serve in Washington, DC?\n",
    "\n",
    "Good.\n",
    "\n",
    "5. What factors lead consumers to choose AT&T over other service providers?\n",
    "\n",
    "Good.\n",
    "\n",
    "6. How can AT&T attract more customers?\n",
    "\n",
    "Bad. Open-ended.\n",
    "\n",
    "7. Why did the Challenger Shuttle explode?\n",
    "\n",
    "Bad. Open-ended.\n",
    "\n",
    "8. Which genes are associated with increased risk of breast cancer?\n",
    "\n",
    "Good.\n",
    "\n",
    "9. Is it better to read to children at night or in the morning?\n",
    "\n",
    "Good.\n",
    "\n",
    "10. How does Google’s search algorithm work?\n",
    "\n",
    "Bad. Open-ended."
   ]
  }
 ],
 "metadata": {
  "kernelspec": {
   "display_name": "Python 3",
   "language": "python",
   "name": "python3"
  },
  "language_info": {
   "codemirror_mode": {
    "name": "ipython",
    "version": 3
   },
   "file_extension": ".py",
   "mimetype": "text/x-python",
   "name": "python",
   "nbconvert_exporter": "python",
   "pygments_lexer": "ipython3",
   "version": "3.6.6"
  }
 },
 "nbformat": 4,
 "nbformat_minor": 2
}
