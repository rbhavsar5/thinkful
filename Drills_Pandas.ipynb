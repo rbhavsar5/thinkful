{
 "cells": [
  {
   "cell_type": "code",
   "execution_count": 24,
   "metadata": {},
   "outputs": [],
   "source": [
    "#Import Libraries\n",
    "import numpy as np\n",
    "import matplotlib.pyplot as plt\n",
    "import pandas as pd"
   ]
  },
  {
   "cell_type": "code",
   "execution_count": 25,
   "metadata": {},
   "outputs": [],
   "source": [
    "#Input the Dataset\n",
    "Ages = [14, 12, 11, 19 , 8 , 6 , 8] \n",
    "Ages_Birthday = [14, 12, 11, 19 , 8 , 7 , 8] \n",
    "Names = ['Greg', 'Marcia', 'Peter', 'Jan', 'Bobby', 'Cindy', 'Oliver']\n",
    "Names_wJessica = ['Greg', 'Marcia', 'Peter', 'Jan', 'Bobby', 'Cindy', 'Jessica']\n",
    "Ages_wJessica = [14, 12, 11, 19 , 8 , 7 , 1] \n",
    "index = [0, 1, 2, 3, 4, 5, 6]"
   ]
  },
  {
   "cell_type": "code",
   "execution_count": 26,
   "metadata": {},
   "outputs": [
    {
     "data": {
      "text/html": [
       "<div>\n",
       "<style scoped>\n",
       "    .dataframe tbody tr th:only-of-type {\n",
       "        vertical-align: middle;\n",
       "    }\n",
       "\n",
       "    .dataframe tbody tr th {\n",
       "        vertical-align: top;\n",
       "    }\n",
       "\n",
       "    .dataframe thead th {\n",
       "        text-align: right;\n",
       "    }\n",
       "</style>\n",
       "<table border=\"1\" class=\"dataframe\">\n",
       "  <thead>\n",
       "    <tr style=\"text-align: right;\">\n",
       "      <th></th>\n",
       "      <th>Names</th>\n",
       "      <th>Ages</th>\n",
       "      <th>Ages w/ Birthday</th>\n",
       "      <th>Names w /Jessica</th>\n",
       "      <th>Ages w/ Jessica</th>\n",
       "    </tr>\n",
       "  </thead>\n",
       "  <tbody>\n",
       "    <tr>\n",
       "      <th>0</th>\n",
       "      <td>Greg</td>\n",
       "      <td>14</td>\n",
       "      <td>14</td>\n",
       "      <td>Greg</td>\n",
       "      <td>14</td>\n",
       "    </tr>\n",
       "    <tr>\n",
       "      <th>1</th>\n",
       "      <td>Marcia</td>\n",
       "      <td>12</td>\n",
       "      <td>12</td>\n",
       "      <td>Marcia</td>\n",
       "      <td>12</td>\n",
       "    </tr>\n",
       "    <tr>\n",
       "      <th>2</th>\n",
       "      <td>Peter</td>\n",
       "      <td>11</td>\n",
       "      <td>11</td>\n",
       "      <td>Peter</td>\n",
       "      <td>11</td>\n",
       "    </tr>\n",
       "    <tr>\n",
       "      <th>3</th>\n",
       "      <td>Jan</td>\n",
       "      <td>19</td>\n",
       "      <td>19</td>\n",
       "      <td>Jan</td>\n",
       "      <td>19</td>\n",
       "    </tr>\n",
       "    <tr>\n",
       "      <th>4</th>\n",
       "      <td>Bobby</td>\n",
       "      <td>8</td>\n",
       "      <td>8</td>\n",
       "      <td>Bobby</td>\n",
       "      <td>8</td>\n",
       "    </tr>\n",
       "  </tbody>\n",
       "</table>\n",
       "</div>"
      ],
      "text/plain": [
       "    Names  Ages  Ages w/ Birthday Names w /Jessica  Ages w/ Jessica\n",
       "0    Greg    14                14             Greg               14\n",
       "1  Marcia    12                12           Marcia               12\n",
       "2   Peter    11                11            Peter               11\n",
       "3     Jan    19                19              Jan               19\n",
       "4   Bobby     8                 8            Bobby                8"
      ]
     },
     "execution_count": 26,
     "metadata": {},
     "output_type": "execute_result"
    }
   ],
   "source": [
    "#Make DataFrame\n",
    "df = pd.DataFrame(index = index)\n",
    "df['Names'] = Names\n",
    "df['Ages'] = Ages\n",
    "df['Ages w/ Birthday'] = Ages_Birthday\n",
    "df['Names w /Jessica'] = Names_wJessica\n",
    "df['Ages w/ Jessica'] = Ages_wJessica\n",
    "df.head()"
   ]
  },
  {
   "cell_type": "code",
   "execution_count": 29,
   "metadata": {},
   "outputs": [
    {
     "name": "stdout",
     "output_type": "stream",
     "text": [
      "7 Ages                11.142857\n",
      "Ages w/ Birthday    11.285714\n",
      "Ages w/ Jessica     10.285714\n",
      "dtype: float64 Ages                11.0\n",
      "Ages w/ Birthday    11.0\n",
      "Ages w/ Jessica     11.0\n",
      "dtype: float64 Ages                19.476190\n",
      "Ages w/ Birthday    17.904762\n",
      "Ages w/ Jessica     32.571429\n",
      "dtype: float64 Ages                4.413184\n",
      "Ages w/ Birthday    4.231402\n",
      "Ages w/ Jessica     5.707138\n",
      "dtype: float64 Ages                1.668027\n",
      "Ages w/ Birthday    1.599320\n",
      "Ages w/ Jessica     2.157096\n",
      "dtype: float64\n",
      "    Names  Ages  Ages w/ Birthday Names w /Jessica  Ages w/ Jessica\n",
      "0   Bobby   8.0               8.0            Bobby                1\n",
      "1   Cindy   NaN               NaN            Cindy                7\n",
      "2    Greg   NaN               NaN             Greg                8\n",
      "3     Jan   NaN               NaN              Jan               11\n",
      "4  Marcia   NaN               NaN          Jessica               12\n",
      "5  Oliver   NaN               NaN           Marcia               14\n",
      "6   Peter   NaN               NaN            Peter               19\n"
     ]
    }
   ],
   "source": [
    "#Statistics on the DataFrame\n",
    "Count = df.count()\n",
    "Count = Count[0]\n",
    "Mean_age, Median_age, Mode_age = df.mean(), df.median(), df.mode()\n",
    "Variance_age = df.var()\n",
    "StD_age = df.std()\n",
    "StdError_age = StD_age / (Count ** 0.5)"
   ]
  },
  {
   "cell_type": "markdown",
   "metadata": {},
   "source": [
    "# Using these estimates, if you had to choose only one estimate of central tendency and one estimate of variance to describe the data, which would you pick and why?\n",
    "\n",
    "I would probably pick the Median and Standard Deviation. The median in this case is a good measure of the center and would not change significantly with the addition of an outlier. The standard deviation shows a possible distance away from the central data point an expected new data point may lie. "
   ]
  },
  {
   "cell_type": "markdown",
   "metadata": {},
   "source": [
    "# Next, Cindy has a birthday. Update your estimates- what changed, and what didn't?\n",
    "\n",
    "Mean, St.Dev, St.Error, Variance are changed by the birthday. \n",
    "Mode, Median stay the same despite this change. This shows these variables are robust to small changes. "
   ]
  },
  {
   "cell_type": "markdown",
   "metadata": {},
   "source": [
    "# Nobody likes Cousin Oliver. Maybe the network should have used an even younger actor. Replace Cousin Oliver with 1-year-old Jessica, then recalculate again. Does this change your choice of central tendency or variance estimation methods?\n",
    "\n",
    "No, my choice was designed to be robust against this type of change. \n"
   ]
  },
  {
   "cell_type": "markdown",
   "metadata": {},
   "source": [
    "# On the 50th anniversary of The Brady Bunch, four different magazines asked their readers whether they were fans of the show. The answers were: TV Guide 20% fans Entertainment Weekly 23% fans Pop Culture Today 17% fans SciPhi Phanatic 5% fans."
   ]
  },
  {
   "cell_type": "markdown",
   "metadata": {},
   "source": [
    "# Based on these numbers, what percentage of adult Americans would you estimate were Brady Bunch fans on the 50th anniversary of the show?"
   ]
  },
  {
   "cell_type": "code",
   "execution_count": 22,
   "metadata": {},
   "outputs": [
    {
     "name": "stdout",
     "output_type": "stream",
     "text": [
      "0    18.5\n",
      "dtype: float64\n"
     ]
    }
   ],
   "source": [
    "my_array = [20, 23, 17, 5]\n",
    "my_DF = pd.DataFrame(my_array)\n",
    "print(my_DF.median())"
   ]
  },
  {
   "cell_type": "markdown",
   "metadata": {},
   "source": [
    "I would estimate that ~18.5% are fans of the show. SciPhi Phanatic magazine's audience is an outlier and does not constitute the whole population of America. And so, the median is able to filter out most of the effects of the outlier in the dataset.   "
   ]
  }
 ],
 "metadata": {
  "kernelspec": {
   "display_name": "Python 3",
   "language": "python",
   "name": "python3"
  },
  "language_info": {
   "codemirror_mode": {
    "name": "ipython",
    "version": 3
   },
   "file_extension": ".py",
   "mimetype": "text/x-python",
   "name": "python",
   "nbconvert_exporter": "python",
   "pygments_lexer": "ipython3",
   "version": "3.6.6"
  }
 },
 "nbformat": 4,
 "nbformat_minor": 2
}
