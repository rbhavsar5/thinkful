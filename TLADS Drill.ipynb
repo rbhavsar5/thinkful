{
 "cells": [
  {
   "cell_type": "markdown",
   "metadata": {},
   "source": [
    "# TLADS Drill\n",
    "Categorize each of the variables in the ESS dataset as categorical or continuous, and if continuous as ordinal, interval, or ratio variables. Check your work with your mentor, and discuss what that information might imply for feature engineering with this data."
   ]
  },
  {
   "cell_type": "markdown",
   "metadata": {},
   "source": [
    "Now we have a clean dataset made up of an outcome variable and a set of other variables that initial explorations and/or domain knowledge suggest would be valuable in our model. The next step is to transform our potential predictor variables into features. Features are variables that have been transformed in ways that make them best-suited to work within our model to explain variance in the outcome of interest. Feature engineering is a broad and complex topic, and an opportunity to get creative with your data. In the next section, we’ll talk about how to pare down a set of features into the best ones for your problem, but to do that we need lots and lots of different features that highlight different information from the data.\n",
    "Feature engineering can be a lot of fun: there are very few limits on what you can try. For the rest of this assignment, we'll go through some feature engineering options using an example. When working with your data, don’t limit yourself to what you see here – try anything that you think will highlight a particular feature within your dataset.\n",
    "We'll continue to work with the European Social Survey Data from the last assignment. The data, if you need it again, is here and the codebook is available here."
   ]
  },
  {
   "cell_type": "code",
   "execution_count": 1,
   "metadata": {},
   "outputs": [],
   "source": [
    "import pandas as pd\n",
    "import numpy as np\n",
    "import matplotlib.pyplot as plt\n",
    "import seaborn as sns\n",
    "import scipy.stats as stats\n",
    "\n",
    "# Set the default plot aesthetics to be prettier.\n",
    "sns.set_style(\"white\")"
   ]
  },
  {
   "cell_type": "code",
   "execution_count": 7,
   "metadata": {},
   "outputs": [
    {
     "name": "stdout",
     "output_type": "stream",
     "text": [
      "  cntry  idno  year  tvtot  ppltrst  pplfair  pplhlp  happy  sclmeet  sclact  \\\n",
      "0    CH   5.0     6    3.0      3.0     10.0     5.0    8.0      5.0     4.0   \n",
      "1    CH  25.0     6    6.0      5.0      7.0     5.0    9.0      3.0     2.0   \n",
      "2    CH  26.0     6    1.0      8.0      8.0     8.0    7.0      6.0     3.0   \n",
      "3    CH  28.0     6    4.0      6.0      6.0     7.0   10.0      6.0     2.0   \n",
      "4    CH  29.0     6    5.0      6.0      7.0     5.0    8.0      7.0     2.0   \n",
      "\n",
      "   gndr  agea  partner  \n",
      "0   2.0  60.0      1.0  \n",
      "1   2.0  59.0      1.0  \n",
      "2   1.0  24.0      2.0  \n",
      "3   2.0  64.0      1.0  \n",
      "4   2.0  55.0      1.0  \n",
      "['CH' 'CZ' 'DE' 'ES' 'NO' 'SE']\n",
      "Index(['cntry', 'idno', 'year', 'tvtot', 'ppltrst', 'pplfair', 'pplhlp',\n",
      "       'happy', 'sclmeet', 'sclact', 'gndr', 'agea', 'partner'],\n",
      "      dtype='object')\n"
     ]
    }
   ],
   "source": [
    "# Loading the data again.\n",
    "\n",
    "df = pd.read_csv(\"https://raw.githubusercontent.com/Thinkful-Ed/data-201-resources/master/ESS_practice_data/ESSdata_Thinkful.csv\")\n",
    "\n",
    "# Take a subset of the data to make plots clearer.\n",
    "print(df.head())\n",
    "\n",
    "print(df.cntry.unique())\n",
    "\n",
    "print(df.columns)"
   ]
  },
  {
   "cell_type": "markdown",
   "metadata": {},
   "source": [
    "# Variables"
   ]
  },
  {
   "cell_type": "markdown",
   "metadata": {},
   "source": [
    "Variable Name | Variable Type\n",
    "cntry: Categorical\n",
    "idno: Continuous -- Ordinal\n",
    "year: Continous -- Interval\n",
    "tvtot: Continous -- Ratio\n",
    "ppltrst: Continous -- Ordinal\n",
    "pplfair: Continous -- Ordinal\n",
    "happy: Continous -- Ordinal\n",
    "sclmeet: Continuous -- Ratio\n",
    "sclact: Continous -- Ordinal\n",
    "gndr: Categorical\n",
    "agea: Continous -- Ratio\n",
    "partner: Categorical"
   ]
  }
 ],
 "metadata": {
  "kernelspec": {
   "display_name": "Python 3",
   "language": "python",
   "name": "python3"
  },
  "language_info": {
   "codemirror_mode": {
    "name": "ipython",
    "version": 3
   },
   "file_extension": ".py",
   "mimetype": "text/x-python",
   "name": "python",
   "nbconvert_exporter": "python",
   "pygments_lexer": "ipython3",
   "version": "3.6.6"
  }
 },
 "nbformat": 4,
 "nbformat_minor": 2
}
