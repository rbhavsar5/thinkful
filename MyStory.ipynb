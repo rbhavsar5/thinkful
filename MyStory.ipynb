{
 "cells": [
  {
   "cell_type": "markdown",
   "metadata": {},
   "source": [
    "# Think about your ideal career two or three years from now. What particular skills have you built? What techniques and tools are your specialty? What accomplishments might you have made? Is your title \"Data Scientist\", or something different? Are you working in a particular industry, or solving a particular class of problems?\n",
    "For this final assignment you have writing prompts about the ideal job you envision above. Write responses to each and add them to your planning document."
   ]
  },
  {
   "cell_type": "markdown",
   "metadata": {},
   "source": [
    "1.\tDescribe your ideal job in one or two paragraphs as though you're talking with an industry professional. They're familiar with the business and with the culture, they know the jargon and the buzzwords. Focus on the skills, tools, and / or industry you hope to deeply specialize in."
   ]
  },
  {
   "cell_type": "markdown",
   "metadata": {},
   "source": [
    "My ideal job would be to apply my knowledge of data to make valid predictions about subsets of the population. I would like to work with large datasets to understand humanity better. An example of this would be working at Spotify, understanding how to better understand people's music preferences. Other cases may include working with eCommerce to find out consumer purchasing preferences. I would like to use data to learn more about people. Image recognition is also very interesting. In the same line of thought, emotion recognition through images could be explored further to help better service in restaurants for example. I think behavioral analytics is super cool and would be interested in learning more. "
   ]
  },
  {
   "cell_type": "markdown",
   "metadata": {},
   "source": [
    "# 2.\tDescribe your ideal job in one or two paragraphs as though you're talking with a non-technical family member or friend. Avoid jargon and keep things simple while remaining specific. If you went deep in your specialization above, emphasize here the breadth of skills and work."
   ]
  },
  {
   "cell_type": "markdown",
   "metadata": {},
   "source": [
    "I would like to work in a job where I try to better understand people using data. Sometimes, this could be through images, and other times through statistical data. In an ideal job, I would want to understand people's tastes better than they do. This would help to provide the best service possible. "
   ]
  },
  {
   "cell_type": "markdown",
   "metadata": {},
   "source": [
    "# 3.\tSynthesize the two exercises above into a short aspirational \"professional summary\" that might be appropriate on your LinkedIn profile, resume, or portfolio in the future."
   ]
  },
  {
   "cell_type": "markdown",
   "metadata": {},
   "source": [
    "I would like to apply concepts of data science to behavioral analytics. However, the field is quite large. Many other things in the field also interest me. I felt like sharing this because it has a useful business case and I am also interested in it. "
   ]
  }
 ],
 "metadata": {
  "kernelspec": {
   "display_name": "Python 3",
   "language": "python",
   "name": "python3"
  },
  "language_info": {
   "codemirror_mode": {
    "name": "ipython",
    "version": 3
   },
   "file_extension": ".py",
   "mimetype": "text/x-python",
   "name": "python",
   "nbconvert_exporter": "python",
   "pygments_lexer": "ipython3",
   "version": "3.6.6"
  }
 },
 "nbformat": 4,
 "nbformat_minor": 2
}
